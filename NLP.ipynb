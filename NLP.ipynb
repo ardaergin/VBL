{
 "cells": [
  {
   "cell_type": "code",
   "execution_count": 2,
   "metadata": {},
   "outputs": [],
   "source": [
    "import faiss\n",
    "import numpy as np\n",
    "import json\n",
    "import torch\n",
    "from transformers import AutoTokenizer, AutoModel"
   ]
  },
  {
   "cell_type": "code",
   "execution_count": 3,
   "metadata": {},
   "outputs": [
    {
     "name": "stdout",
     "output_type": "stream",
     "text": [
      "Model and tokenizer loaded successfully on cpu\n"
     ]
    },
    {
     "ename": "",
     "evalue": "",
     "output_type": "error",
     "traceback": [
      "\u001b[1;31mThe Kernel crashed while executing code in the current cell or a previous cell. \n",
      "\u001b[1;31mPlease review the code in the cell(s) to identify a possible cause of the failure. \n",
      "\u001b[1;31mClick <a href='https://aka.ms/vscodeJupyterKernelCrash'>here</a> for more info. \n",
      "\u001b[1;31mView Jupyter <a href='command:jupyter.viewOutput'>log</a> for further details."
     ]
    }
   ],
   "source": [
    "# Load the embeddings and metadata\n",
    "embeddings = np.load('embeddings.npy')\n",
    "with open('metadata.json', 'r', encoding='utf-8') as meta_file:\n",
    "    metadata = json.load(meta_file)\n",
    "\n",
    "# Create the FAISS index\n",
    "dimension = embeddings.shape[1]\n",
    "index = faiss.IndexFlatL2(dimension)\n",
    "index.add(embeddings)\n",
    "\n",
    "# Determine the appropriate device (GPU if available, otherwise CPU)\n",
    "device = torch.device('cuda' if torch.cuda.is_available() else 'cpu')\n",
    "\n",
    "# Load the tokenizer and model\n",
    "tokenizer = AutoTokenizer.from_pretrained('sentence-transformers/all-MiniLM-L6-v2')\n",
    "model = AutoModel.from_pretrained('sentence-transformers/all-MiniLM-L6-v2').to(device)\n",
    "print(\"Model and tokenizer loaded successfully on\", device)"
   ]
  },
  {
   "cell_type": "code",
   "execution_count": 3,
   "metadata": {},
   "outputs": [
    {
     "ename": "",
     "evalue": "",
     "output_type": "error",
     "traceback": [
      "\u001b[1;31mThe Kernel crashed while executing code in the current cell or a previous cell. \n",
      "\u001b[1;31mPlease review the code in the cell(s) to identify a possible cause of the failure. \n",
      "\u001b[1;31mClick <a href='https://aka.ms/vscodeJupyterKernelCrash'>here</a> for more info. \n",
      "\u001b[1;31mView Jupyter <a href='command:jupyter.viewOutput'>log</a> for further details."
     ]
    }
   ],
   "source": [
    "def embed_text(text):\n",
    "    inputs = tokenizer(text, return_tensors='pt', truncation=True, padding=True, max_length=512)\n",
    "    with torch.no_grad():\n",
    "        embeddings = model(**inputs).last_hidden_state.mean(dim=1).squeeze().cpu().numpy()\n",
    "    return embeddings\n",
    "\n",
    "def embed_text(text):\n",
    "    inputs = tokenizer(text, return_tensors='pt', truncation=True, padding=True, max_length=512).to(device)\n",
    "    with torch.no_grad():\n",
    "        model_output = model(**inputs)\n",
    "        embeddings = model_output.last_hidden_state.mean(dim=1).squeeze().cpu().numpy()\n",
    "    # Clear GPU memory\n",
    "    torch.cuda.empty_cache()\n",
    "    return embeddings\n",
    "\n",
    "@app.route('/')\n",
    "def memory_test():\n",
    "    query = \"attent\"\n",
    "    query_embedding = embed_text(query).reshape(1, -1)\n",
    "    distances, indices = index.search(query_embedding, k=5)\n",
    "    results = [metadata[idx] for idx in indices[0]]\n",
    "    return {'results': results}\n"
   ]
  },
  {
   "cell_type": "code",
   "execution_count": null,
   "metadata": {},
   "outputs": [],
   "source": [
    "def embed_text(text):\n",
    "    inputs = tokenizer(text, return_tensors='pt', truncation=True, padding=True, max_length=512).to(device)\n",
    "    print(f\"Input shape: {inputs['input_ids'].shape}\")\n",
    "    with torch.no_grad():\n",
    "        model_output = model(**inputs)\n",
    "        embeddings = model_output.last_hidden_state.mean(dim=1).squeeze().cpu().numpy()\n",
    "        print(f\"Embedding shape: {embeddings.shape}\")\n",
    "    return embeddings"
   ]
  },
  {
   "cell_type": "code",
   "execution_count": 8,
   "metadata": {},
   "outputs": [
    {
     "ename": "",
     "evalue": "",
     "output_type": "error",
     "traceback": [
      "\u001b[1;31mThe Kernel crashed while executing code in the current cell or a previous cell. \n",
      "\u001b[1;31mPlease review the code in the cell(s) to identify a possible cause of the failure. \n",
      "\u001b[1;31mClick <a href='https://aka.ms/vscodeJupyterKernelCrash'>here</a> for more info. \n",
      "\u001b[1;31mView Jupyter <a href='command:jupyter.viewOutput'>log</a> for further details."
     ]
    }
   ],
   "source": [
    "query = \"attent\"\n",
    "query_embedding = embed_text(query).reshape(1, -1)\n",
    "distances, indices = index.search(query_embedding, k=5)\n",
    "results = [metadata[idx] for idx in indices[0]]\n",
    "results"
   ]
  },
  {
   "cell_type": "code",
   "execution_count": null,
   "metadata": {},
   "outputs": [],
   "source": [
    "def search():\n",
    "    query = request.json.get('query')\n",
    "    query_embedding = embed_text(query).reshape(1, -1)\n",
    "    distances, indices = index.search(query_embedding, k=5)\n",
    "    \n",
    "    results = [metadata[idx] for idx in indices[0]]\n",
    "    return jsonify(results)"
   ]
  },
  {
   "cell_type": "code",
   "execution_count": null,
   "metadata": {},
   "outputs": [],
   "source": [
    "def embed_text(text):\n",
    "    inputs = tokenizer(text, return_tensors='pt', truncation=True, padding=True, max_length=512)\n",
    "    with torch.no_grad():\n",
    "        embeddings = model(**inputs).last_hidden_state.mean(dim=1).squeeze().cpu().numpy()\n",
    "    return embeddings\n",
    "\n",
    "@bp.route('/search', methods=['POST'])\n",
    "def search():\n",
    "    query = request.json.get('query')\n",
    "    query_embedding = embed_text(query).reshape(1, -1)\n",
    "    distances, indices = index.search(query_embedding, k=5)\n",
    "    \n",
    "    results = [metadata[idx] for idx in indices[0]]\n",
    "    return jsonify(results)"
   ]
  },
  {
   "cell_type": "code",
   "execution_count": null,
   "metadata": {},
   "outputs": [],
   "source": [
    "from flask import Blueprint, request, jsonify\n",
    "import faiss\n",
    "import numpy as np\n",
    "import json\n",
    "import torch\n",
    "from transformers import AutoTokenizer, AutoModel\n",
    "\n",
    "bp = Blueprint('search', __name__)\n",
    "\n",
    "# Load the embeddings and metadata\n",
    "embeddings = np.load('embeddings.npy')\n",
    "with open('metadata.json', 'r', encoding='utf-8') as meta_file:\n",
    "    metadata = json.load(meta_file)\n",
    "\n",
    "# Create the FAISS index\n",
    "dimension = embeddings.shape[1]\n",
    "index = faiss.IndexFlatL2(dimension)\n",
    "index.add(embeddings)\n",
    "\n",
    "# Load the tokenizer and model for generating query embeddings\n",
    "tokenizer = AutoTokenizer.from_pretrained('sentence-transformers/all-MiniLM-L6-v2')\n",
    "model = AutoModel.from_pretrained('sentence-transformers/all-MiniLM-L6-v2')\n",
    "\n",
    "def embed_text(text):\n",
    "    inputs = tokenizer(text, return_tensors='pt', truncation=True, padding=True, max_length=512)\n",
    "    with torch.no_grad():\n",
    "        embeddings = model(**inputs).last_hidden_state.mean(dim=1).squeeze().cpu().numpy()\n",
    "    return embeddings\n",
    "\n",
    "@bp.route('/search', methods=['POST'])\n",
    "def search():\n",
    "    query = request.json.get('query')\n",
    "    query_embedding = embed_text(query).reshape(1, -1)\n",
    "    distances, indices = index.search(query_embedding, k=5)\n",
    "    \n",
    "    results = [metadata[idx] for idx in indices[0]]\n",
    "    return jsonify(results)\n"
   ]
  }
 ],
 "metadata": {
  "kernelspec": {
   "display_name": "myvenv",
   "language": "python",
   "name": "python3"
  },
  "language_info": {
   "codemirror_mode": {
    "name": "ipython",
    "version": 3
   },
   "file_extension": ".py",
   "mimetype": "text/x-python",
   "name": "python",
   "nbconvert_exporter": "python",
   "pygments_lexer": "ipython3",
   "version": "3.11.4"
  }
 },
 "nbformat": 4,
 "nbformat_minor": 2
}
